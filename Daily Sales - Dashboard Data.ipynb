{
 "cells": [
  {
   "cell_type": "markdown",
   "id": "364ed6a3",
   "metadata": {},
   "source": [
    "# Generate dashboard data"
   ]
  },
  {
   "cell_type": "markdown",
   "id": "800f0852",
   "metadata": {},
   "source": [
    "###### Preprocessing"
   ]
  },
  {
   "cell_type": "code",
   "execution_count": 1,
   "id": "114dd2ac",
   "metadata": {
    "scrolled": true
   },
   "outputs": [],
   "source": [
    "import pandas as pd\n",
    "import numpy as np\n",
    "import openpyxl as xl\n",
    "\n",
    "\n",
    "_sales = pd.read_excel('Sales.xls')\n",
    "_items = pd.read_excel('Items.xls')\n",
    "\n",
    "ayla_sales = pd.read_excel('AylaSales.xls')\n",
    "ayla_items = pd.read_excel('AylaItems.xls')\n",
    "\n",
    "sales = pd.concat([_sales,ayla_sales])\n",
    "items = pd.concat([_items,ayla_items])\n",
    "\n",
    "items['ITEMOCODE'] = items['ITEMOCODE'].astype(np.int64)\n",
    "items['ITEMOCODE'] = items['ITEMOCODE'].astype(str).str.zfill(6)\n",
    "items['NET SALES'] = items['TOTAL'] - items['DISCOUNT'] - items['TAXAMT']\n",
    "\n",
    "cp = pd.read_excel('Cost Public.xls')\n",
    "cp['ItemOCode'] = cp['ItemOCode'].astype(np.int64)\n",
    "cp['ItemOCode'] = cp['ItemOCode'].astype(str).str.zfill(6)\n",
    "items['CP'] = items['ITEMOCODE'].apply(lambda x: \"Yes\" if x in cp['ItemOCode'].values else \"No\")\n",
    "\n",
    "items['P.Key'] = (items['POSNO'].astype(str) + ' ' +\n",
    "                  items['VHFDATE'].astype(str) + ' ' +\n",
    "                  items['VHFNO'].astype(str) + ' ' +\n",
    "                  items['USERNAME'] + ' ' +\n",
    "                  items['TYPE']\n",
    "                 )\n",
    "sales['P.Key'] = (sales['PosNo'].astype(str) + ' ' +\n",
    "                  sales['VHFDate'].astype(str) + ' ' +\n",
    "                  sales['VHFNo'].astype(str) + ' ' +\n",
    "                  sales['USERNAME'].astype(str) + ' ' +\n",
    "                  sales['TYPE'].astype(str)\n",
    "                 )\n",
    "\n",
    "sales['Invoices'] = sales['TYPE'].apply(lambda x: 1 if x == 'Sales' else -1)\n",
    "sales = sales.drop(columns=['TOTAL','TAX','Disc', 'NetT', 'VHFDate', 'VHFNo', 'USERNAME', 'TYPE'])\n",
    "\n",
    "df = pd.merge(items, \n",
    "              sales, \n",
    "              on ='P.Key', \n",
    "              how ='inner')\n",
    "\n",
    "cards=['كابيتال بنك -بطاقات ائتمان','كابيتال بنك -بطاقات ائتمان','كابيتال بنك -بطاقات ائتمان','MEPS','AMERICAN EXPRESS','موبي كاش العربي',\n",
    "      'CAPITAL BANK -CREDIT CARD','ARAB ISLAMIC INTERNATIONAL BANK','AMEX-NO STOCK',\n",
    "      'MOBI CASH -NO STOCK','شركة الشرق الاوسط لخدمات الدفع-MEPS','MEPS -NO STOCK','امريكان اكسبرس',\n",
    "      'MOBI CASH ARAB BANK','MOBI CASH  -NO STOCK','MOBI CASH ARB BANK', 'كابحتاء بؤك -بطاقات ائتأاؤ']\n",
    "\n",
    "# Function to categorize the paytype\n",
    "def categorize_paytype(row):\n",
    "    if 'Insurance' in row['PAYTYPE']:\n",
    "        return 'Insurance'\n",
    "    elif row['PAYTYPE'] == 'Cash':\n",
    "        return 'Cash'\n",
    "    elif row['PAYTYPE'] in ['Credit', 'Cash,Credit'] and row['CUSTOMERNAME'] in cards:\n",
    "        return 'Credit (cards)'\n",
    "    else:\n",
    "        return 'Customer'\n",
    "\n",
    "# Apply the function to create a new column 'paytype_category'\n",
    "df['PT'] = df.apply(categorize_paytype, axis=1)"
   ]
  },
  {
   "cell_type": "code",
   "execution_count": 2,
   "id": "361711c6",
   "metadata": {},
   "outputs": [],
   "source": [
    "def gen_data(branches, manager):\n",
    "    output_dict = {}\n",
    "    for b in branches:\n",
    "        df_temp = df.loc[df['POSNO'] == b]\n",
    "        items_temp = items.loc[items['POSNO'] == b]\n",
    "        sales_temp = sales.loc[sales['PosNo'] == b]\n",
    "    \n",
    "        cash = sum(df_temp.loc[df_temp['PT']=='Cash']['NET SALES'])\n",
    "        ins = sum(df_temp.loc[df_temp['PT']=='Insurance']['NET SALES'])\n",
    "        cred = sum(df_temp.loc[df_temp['PT']=='Credit (cards)']['NET SALES'])\n",
    "        cust = sum(df_temp.loc[df_temp['PT']=='Customer']['NET SALES'])\n",
    "    \n",
    "        zero = sum(items_temp.loc[items_temp['TAXABLE']==0]['NET SALES'])\n",
    "        one = sum(items_temp.loc[items_temp['TAXABLE']==1]['NET SALES'])\n",
    "        four = sum(items_temp.loc[items_temp['TAXABLE']==4]['NET SALES'])\n",
    "        seven = sum(items_temp.loc[items_temp['TAXABLE']==7]['NET SALES'])\n",
    "        sixteen = sum(items_temp.loc[items_temp['TAXABLE']==16]['NET SALES'])\n",
    "    \n",
    "        invoices = sum(sales_temp['Invoices'])\n",
    "    \n",
    "        cost_public = sum(items_temp.loc[items_temp['CP'] == 'Yes']['NET SALES'])\n",
    "    \n",
    "        gross_sales = sum(items_temp.loc[items_temp['TYPE'] == 'Sales']['TOTAL'])\n",
    "        return_sales = -1*sum(items_temp.loc[items_temp['TYPE'] == 'Return Sales']['TOTAL'])\n",
    "        discount_sales = sum(items_temp['DISCOUNT'])\n",
    "        tax_sales = sum(items_temp['TAXAMT'])\n",
    "    \n",
    "        # Append results to dictionary\n",
    "        output_dict[b] = {'cash': cash, 'ins': ins, 'cred': cred, 'cust': cust,\n",
    "                          'zero': zero, 'one': one, 'four': four, 'seven': seven, 'sixteen': sixteen,\n",
    "                          'invoices': invoices, 'cost_public': cost_public,\n",
    "                          'gross_sales': gross_sales, 'return_sales': return_sales,\n",
    "                          'tax_sales': tax_sales, 'discount_sales': discount_sales}\n",
    "    \n",
    "    # Create a DataFrame from the dictionary with POSNO as index\n",
    "    output_df = pd.DataFrame.from_dict(output_dict, orient='index')\n",
    "    output_df.index.name = 'POSNO'\n",
    "    output_df.to_excel(f'{manager} Details Data.xlsx')"
   ]
  },
  {
   "cell_type": "code",
   "execution_count": 3,
   "id": "17d004f4",
   "metadata": {},
   "outputs": [],
   "source": [
    "all_branches = [6,9,19,38,44,2,4,10,12,31,11,17,20,24,26,28,29,30,3,5,14,15,23,25,33,36,37,40,46,47,7,8,13,21]\n",
    "#muna_branches = [2,4,10,12,31]\n",
    "#rania_branches = [11,17,20,24,26,28,29,30]\n",
    "#samer_branches = [3,5,14,15,23,25,33,36,37,40]\n",
    "#sanaa_branches = [7,8,13,21]\n",
    "\n",
    "gen_data(all_branches, 'All')\n",
    "#gen_data(muna_branches, 'Dr1')\n",
    "#gen_data(rania_branches, 'Dr2')\n",
    "#gen_data(samer_branches, 'Dr3')\n",
    "#gen_data(sanaa_branches, 'Dr4')"
   ]
  },
  {
   "cell_type": "code",
   "execution_count": null,
   "id": "6c3dc952",
   "metadata": {},
   "outputs": [],
   "source": []
  },
  {
   "cell_type": "code",
   "execution_count": null,
   "id": "20415371",
   "metadata": {},
   "outputs": [],
   "source": []
  }
 ],
 "metadata": {
  "kernelspec": {
   "display_name": "Python 3 (ipykernel)",
   "language": "python",
   "name": "python3"
  },
  "language_info": {
   "codemirror_mode": {
    "name": "ipython",
    "version": 3
   },
   "file_extension": ".py",
   "mimetype": "text/x-python",
   "name": "python",
   "nbconvert_exporter": "python",
   "pygments_lexer": "ipython3",
   "version": "3.11.4"
  }
 },
 "nbformat": 4,
 "nbformat_minor": 5
}
